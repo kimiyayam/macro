{
  "nbformat": 4,
  "nbformat_minor": 0,
  "metadata": {
    "kernelspec": {
      "display_name": "Python 3",
      "language": "python",
      "name": "python3"
    },
    "language_info": {
      "codemirror_mode": {
        "name": "ipython",
        "version": 3
      },
      "file_extension": ".py",
      "mimetype": "text/x-python",
      "name": "python",
      "nbconvert_exporter": "python",
      "pygments_lexer": "ipython3",
      "version": "3.8.2"
    },
    "colab": {
      "provenance": [],
      "include_colab_link": true
    }
  },
  "cells": [
    {
      "cell_type": "markdown",
      "metadata": {
        "id": "view-in-github",
        "colab_type": "text"
      },
      "source": [
        "<a href=\"https://colab.research.google.com/github/kimiyayam/macro/blob/main/lab05_autograd.ipynb\" target=\"_parent\"><img src=\"https://colab.research.google.com/assets/colab-badge.svg\" alt=\"Open In Colab\"/></a>"
      ]
    },
    {
      "cell_type": "markdown",
      "metadata": {
        "id": "nkR5FpvOqMtA"
      },
      "source": [
        "# Lab 5 – Autograd\n",
        "\n",
        "Before working on this notebook:\n",
        "  - Create a copy in your drive\n",
        "  - Set your Runtime to None\n",
        "\n",
        "Adapted from: [Original Source](https://www.youtube.com/redirect?event=video_description&redir_token=QUFFLUhqa2IzMmVuNGxhUm9XcnN1UXVydWVjZEpkaEJvd3xBQ3Jtc0ttTkp6Tml1MzlqT1Fia3dFNTdteFVlbW5BVGxDNzMxZW51YzVnTUR6cURhOU1TRHdqQmtUaWZfekppMkswUm52SUZ6d285SHA5YVdfMHF3WmhyYWZuODNER0trLTUyM3VQNHpCcnEtakZxWXMwNXI1RQ&q=https%3A%2F%2Fpytorch-tutorial-assets.s3.amazonaws.com%2Fyoutube-series%2FVideo%2B3%2B-%2BAutograd.ipynb)\n",
        "\n",
        "PyTorch's *Autograd* feature is part of what make PyTorch flexible and fast for building machine learning projects. It allows for the rapid and easy computation of multiple partial derivatives (also referred to as *gradients)* over a complex computation. This operation is central to backpropagation-based neural network learning.\n",
        "\n",
        "The power of autograd comes from the fact that it traces your computation dynamically *at runtime,* meaning that if your model has decision branches, or loops whose lengths are not known until runtime, the computation will still be traced correctly, and you'll get correct gradients to drive learning. This, combined with the fact that your models are built in Python, offers far more flexibility than frameworks that rely on static analysis of a more rigidly-structured model for computing gradients.\n",
        "\n",
        "## What Do We Need Autograd For?\n",
        "\n",
        "In training a model, we want to minimize the loss, $L$. In the idealized case of a perfect model, that means adjusting its learning weights - that is, the adjustable parameters of the function - such that loss is zero for all inputs. In the real world, it means an iterative process of nudging the learning weights until we see that we get a tolerable loss for a wide variety of inputs.\n",
        "\n",
        "How do we decide how far and in which direction to nudge the weights? We want to *minimize* the loss, which means making its first derivative with respect to the input equal to 0: $\\frac{\\partial L}{\\partial x} = 0$.\n",
        "\n",
        "Recall, though, that the loss is not *directly* derived from the input, but a function of the model's output (which is a function of the input directly). By the chain rule of differential calculus, we have $\\frac{\\partial {L({\\vec y})}}{\\partial x}$ = $\\frac{\\partial L}{\\partial y}\\frac{\\partial y}{\\partial x}$ = $\\frac{\\partial L}{\\partial y}\\frac{\\partial M(x)}{\\partial x}$.\n",
        "\n",
        "$\\frac{\\partial M(x)}{\\partial x}$ is where things get complex. The partial derivatives of the model's outputs with respect to its inputs, if we were to expand the expression using the chain rule again, would involve many local partial derivatives over every multiplied learning weight, every activation function, and every other mathematical transformation in the model. The full expression for each such partial derivative is the sum of the products of the local gradient of *every possible path* through the computation graph that ends with the variable whose gradient we are trying to measure.\n",
        "\n",
        "In particular, the gradients over the learning weights are of interest to us - they tell us *what direction to change each weight* to get the loss function closer to zero.\n",
        "\n",
        "Since the number of such local derivatives (each corresponding to a separate path through the model's computation graph) will tend to go up exponentially with the depth of a neural network, so does the complexity in computing them. This is where autograd comes in: It tracks the history of every computation. Every computed tensor in your PyTorch model carries a history of its input tensors and the function used to create it. Combined with the fact that PyTorch functions meant to act on tensors each have a built-in implementation for computing their own derivatives, this greatly speeds the computation of the local derivatives needed for learning.\n",
        "\n",
        "## A Simple Example\n",
        "\n",
        "Let's start with a straightforward example. First, we'll do some imports to let us graph our results:"
      ]
    },
    {
      "cell_type": "code",
      "metadata": {
        "id": "uUj6dncKqMtD"
      },
      "source": [
        "%matplotlib inline"
      ],
      "execution_count": null,
      "outputs": []
    },
    {
      "cell_type": "code",
      "metadata": {
        "id": "Kvvyf_HHqMtE"
      },
      "source": [
        "import torch\n",
        "\n",
        "import matplotlib.pyplot as plt\n",
        "import matplotlib.ticker as ticker\n",
        "import math"
      ],
      "execution_count": null,
      "outputs": []
    },
    {
      "cell_type": "markdown",
      "metadata": {
        "id": "R5Y-zYhLqMtF"
      },
      "source": [
        "Next, we'll create an input tensor full of evenly spaced values on the interval $[0, 2{\\pi}]$, and specify `requires_grad=True`. (Like most functions that create tensors, `torch.linspace()` accepts an optional `requires_grad` option.) Setting this flag means that in every computation that follows, autograd will be accumulating the history of the computation in the output tensors of that computation."
      ]
    },
    {
      "cell_type": "code",
      "metadata": {
        "id": "bKDIPaS4qMtF"
      },
      "source": [
        "a = torch.linspace(0., 2. * math.pi, steps=25, requires_grad=True)\n",
        "print(a)"
      ],
      "execution_count": null,
      "outputs": []
    },
    {
      "cell_type": "code",
      "source": [
        "#Q1. What would happen if requires_grad is not set to True?\n"
      ],
      "metadata": {
        "id": "Jav30TPR_xiB"
      },
      "execution_count": null,
      "outputs": []
    },
    {
      "cell_type": "markdown",
      "metadata": {
        "id": "ybsuIr62qMtG"
      },
      "source": [
        "Next, we'll perform a computation, and plot its output in terms of its inputs:"
      ]
    },
    {
      "cell_type": "code",
      "metadata": {
        "id": "HSv-TpnKqMtH"
      },
      "source": [
        "b = torch.sin(a)\n",
        "plt.plot(a.detach(), b.detach()) # can't call plot on tensors that require grads. Detach them first\n"
      ],
      "execution_count": null,
      "outputs": []
    },
    {
      "cell_type": "markdown",
      "metadata": {
        "id": "6ysTX39TqMtI"
      },
      "source": [
        "Let's have a closer look at the tensor `b`. When we print it, we see an indicator that it is tracking its computation history:"
      ]
    },
    {
      "cell_type": "code",
      "metadata": {
        "id": "KW8Qr2b6qMtI"
      },
      "source": [
        "print(b)"
      ],
      "execution_count": null,
      "outputs": []
    },
    {
      "cell_type": "code",
      "source": [
        "#Q2. What does the argument grad_fn=<SinBackward0> indicate here?\n"
      ],
      "metadata": {
        "id": "lCo5M2Ew4ieZ"
      },
      "execution_count": null,
      "outputs": []
    },
    {
      "cell_type": "markdown",
      "metadata": {
        "id": "JqoyjePmqMtJ"
      },
      "source": [
        "Let's perform some more computations:"
      ]
    },
    {
      "cell_type": "code",
      "metadata": {
        "id": "_VWsODeNqMtJ"
      },
      "source": [
        "c = 2 * b\n",
        "print(f'c = {c}')\n",
        "\n",
        "d = c + 1\n",
        "print(f'd = {d}')"
      ],
      "execution_count": null,
      "outputs": []
    },
    {
      "cell_type": "markdown",
      "metadata": {
        "id": "-AbHP-GTqMtK"
      },
      "source": [
        "Finally, let's compute a single-element output. "
      ]
    },
    {
      "cell_type": "code",
      "metadata": {
        "id": "X6pJkaxGqMtK"
      },
      "source": [
        "out = d.sum()\n",
        "print(out)"
      ],
      "execution_count": null,
      "outputs": []
    },
    {
      "cell_type": "markdown",
      "metadata": {
        "id": "geLHAAMwqMtK"
      },
      "source": [
        "## Tracking the computations\n",
        "Each `grad_fn` stored with our tensors allows you to walk the computation all the way back to its inputs with its `next_functions` property. We can see below that drilling down on this property on `d` shows us the gradient functions for all the prior tensors. Note that `a.grad_fn` is reported as `None`, indicating that this was an input to the function with no history of its own."
      ]
    },
    {
      "cell_type": "code",
      "metadata": {
        "id": "crvLA4mQqMtK"
      },
      "source": [
        "print('d:')\n",
        "print(d.grad_fn)\n",
        "print(d.grad_fn.next_functions)\n",
        "print(d.grad_fn.next_functions[0][0].next_functions)\n",
        "print(d.grad_fn.next_functions[0][0].next_functions[0][0].next_functions)\n",
        "print(d.grad_fn.next_functions[0][0].next_functions[0][0].next_functions[0][0].next_functions)\n",
        "print('\\nc:')\n",
        "print(c.grad_fn)\n",
        "print('\\nb:')\n",
        "print(b.grad_fn)\n",
        "print('\\na:')\n",
        "print(a.grad_fn)"
      ],
      "execution_count": null,
      "outputs": []
    },
    {
      "cell_type": "markdown",
      "metadata": {
        "id": "_-omojMIqMtL"
      },
      "source": [
        "With all this machinery in place, how do we get derivatives out? You call the `backward()` method on the output, and check the input's `grad` property to inspect the gradients. When you call `.backward()` on a tensor with no arguments, it expects the calling tensor to contain only a single element, as is the case when computing a loss function."
      ]
    },
    {
      "cell_type": "code",
      "metadata": {
        "id": "dWRM19ZpqMtL"
      },
      "source": [
        "out.backward()\n",
        "print(a.grad)\n",
        "plt.plot(a.detach(), a.grad.detach())"
      ],
      "execution_count": null,
      "outputs": []
    },
    {
      "cell_type": "code",
      "source": [
        "#Q3. What is the range of values of the gradients for this function?\n"
      ],
      "metadata": {
        "id": "i6D10PWr7EA3"
      },
      "execution_count": null,
      "outputs": []
    },
    {
      "cell_type": "markdown",
      "metadata": {
        "id": "70UPEyxDqMtL"
      },
      "source": [
        "Recall the computation steps we took to get here:\n",
        "\n",
        "```\n",
        "a = torch.linspace(0., 2. * math.pi, steps=25, requires_grad=True)\n",
        "b = torch.sin(a)\n",
        "c = 2 * b\n",
        "d = c + 1\n",
        "out = d.sum()\n",
        "```\n",
        "\n",
        "Adding a constant, as we did to compute `d`, does not change the derivative. That leaves $c = 2 * b = 2 * sin(a)$, the derivative of which should be $2 * cos(a)$. Looking at the graph above, that's just what we see.\n",
        "\n",
        "### Exercise"
      ]
    },
    {
      "cell_type": "code",
      "source": [
        "# Q4. Create a tensor containing the numbers 0 to 4 (5 floats) and set it to keep track of the history of the computation in the output tensors\n"
      ],
      "metadata": {
        "id": "GJKH2mTIBICE"
      },
      "execution_count": null,
      "outputs": []
    },
    {
      "cell_type": "code",
      "source": [
        "#DELETE THIS LINE!\n",
        "# x.zero_grad() # zero the gradients\n",
        "\n",
        "# Q5. Create a new tensor y to be the dot product of x on itself. Use torch.dot()\n",
        "\n",
        "#print(y)\n",
        "\n",
        "# Q6. Calculate the gradient of y with respect to x by calling the function for backpropagation \n",
        "\n",
        "# Q7. Print the gradient\n"
      ],
      "metadata": {
        "id": "RdBlQCwbDF-I"
      },
      "execution_count": null,
      "outputs": []
    },
    {
      "cell_type": "code",
      "source": [
        "# Q8. Are the gradients consistent with what you would expect from differentiating the function y = x^2?\n",
        "\n",
        "# Q9. Plot the graph for x and its gradients. Use detach() to detach them first\n"
      ],
      "metadata": {
        "id": "OXZrc9_6Extn"
      },
      "execution_count": null,
      "outputs": []
    },
    {
      "cell_type": "code",
      "source": [
        "# Q10. What function is dy/dx based on the plot? Verify further by running this code.\n",
        "x.grad == 2 * x\n"
      ],
      "metadata": {
        "id": "7aoq5-daFpzS"
      },
      "execution_count": null,
      "outputs": []
    },
    {
      "cell_type": "markdown",
      "source": [
        "## Autograd in NN Training\n",
        "\n",
        "We've had a brief look at how autograd works, but how does it look when it's used for its intended purpose? Let's define a small model and examine how it changes after a single training batch. First, define a few constants, our model, and some stand-ins for inputs and outputs:"
      ],
      "metadata": {
        "id": "V-_KBvmeBBc9"
      }
    },
    {
      "cell_type": "code",
      "metadata": {
        "id": "vfUBrxziqMtL"
      },
      "source": [
        "BATCH_SIZE = 16\n",
        "DIM_IN = 1000\n",
        "HIDDEN_SIZE = 100\n",
        "DIM_OUT = 10\n",
        "\n",
        "class TinyModel(torch.nn.Module):\n",
        "\n",
        "    def __init__(self):\n",
        "        super(TinyModel, self).__init__()\n",
        "        \n",
        "        self.layer1 = torch.nn.Linear(1000, 100)\n",
        "        self.relu = torch.nn.ReLU()\n",
        "        self.layer2 = torch.nn.Linear(100, 10)\n",
        "    \n",
        "    def forward(self, x):\n",
        "        x = self.layer1(x)\n",
        "        x = self.relu(x)\n",
        "        x = self.layer2(x)\n",
        "        return x\n",
        "    \n",
        "some_input = torch.randn(BATCH_SIZE, DIM_IN, requires_grad=False)\n",
        "ideal_output = torch.randn(BATCH_SIZE, DIM_OUT, requires_grad=False)\n",
        "\n",
        "model = TinyModel()"
      ],
      "execution_count": null,
      "outputs": []
    },
    {
      "cell_type": "code",
      "source": [
        "#Q11. How many input units does this NN have?\n",
        "\n",
        "#Q12. How many output units does it have?\n",
        "\n",
        "#Q13. How many hidden layers does it have?\n"
      ],
      "metadata": {
        "id": "B3hP10jARt4m"
      },
      "execution_count": null,
      "outputs": []
    },
    {
      "cell_type": "markdown",
      "metadata": {
        "id": "pTeLRPAkqMtM"
      },
      "source": [
        "One thing you might notice is that we never specify `requires_grad=True` for the model's layers. Within a subclass of `torch.nn.module`, it's assumed that we want to track gradients on the layers' weights for learning.\n",
        "\n",
        "## Initial Parameter Values\n",
        "If we look at the layers of the model, we can examine the values of the weights:"
      ]
    },
    {
      "cell_type": "code",
      "metadata": {
        "id": "1QJMgfuhqMtM"
      },
      "source": [
        "print(f\"Layer2 sample weights = \\n{model.layer2.weight[0][0:10]}\") # just a small slice\n",
        "print(f\"Layer2 sample bias = \\n{model.layer2.bias[0]}\") # just one bias\n",
        "\n",
        "print(\"\\nGradients:\")\n",
        "print(f\"Weights = {model.layer2.weight.grad}\")\n",
        "print(f\"Bias = {model.layer2.bias.grad}\")\n"
      ],
      "execution_count": null,
      "outputs": []
    },
    {
      "cell_type": "code",
      "source": [
        "#Q14. Why are the gradients 'None' for the sample weights and bias?\n"
      ],
      "metadata": {
        "id": "2Ip8k9ltRgmN"
      },
      "execution_count": null,
      "outputs": []
    },
    {
      "cell_type": "markdown",
      "metadata": {
        "id": "ElVD-ne-qMtM"
      },
      "source": [
        "## Forward Pass & Loss Calculation\n",
        "Let's see how this changes when we run through one training batch. For a loss function, we'll just use the square of the Euclidean distance between our `prediction` and the `ideal_output` (MSE), and we'll use a basic stochastic gradient descent optimizer."
      ]
    },
    {
      "cell_type": "code",
      "metadata": {
        "id": "iMSVIC3mqMtM"
      },
      "source": [
        "optimizer = torch.optim.SGD(model.parameters(), lr=0.001)\n",
        "\n",
        "prediction = model(some_input)\n",
        "\n",
        "loss = (ideal_output - prediction).pow(2).sum() # MSE\n",
        "print(loss)"
      ],
      "execution_count": null,
      "outputs": []
    },
    {
      "cell_type": "markdown",
      "metadata": {
        "id": "rUrIEJD_qMtM"
      },
      "source": [
        "## Backpropagating the Loss: `backward()`\n",
        "Now, let's call `loss.backward()` and see what happens:"
      ]
    },
    {
      "cell_type": "code",
      "metadata": {
        "id": "dZxtaspRqMtN"
      },
      "source": [
        "loss.backward()\n",
        "# Print the parameters\n",
        "print(\"Parameters:\")\n",
        "print(f\"Layer2 sample weights = {model.layer2.weight[0][0:10]}\")\n",
        "print(f\"Layer2 sample bias = {model.layer2.bias[0]}\")\n",
        "\n",
        "# Print the gradients\n",
        "print(\"\\nGradients:\")\n",
        "print(f\"Layer2 sample weight gradients = {model.layer2.weight.grad[0][0:10]}\")\n",
        "print(f\"Layer2 sample bias gradient = {model.layer2.bias.grad[0]}\")\n"
      ],
      "execution_count": null,
      "outputs": []
    },
    {
      "cell_type": "code",
      "source": [
        "#Q15. Are the sample weights and bias the same as before the loss is backpropagated?\n",
        "\n",
        "#Q16. Are the gradients of the sample weights and bias the same as before the loss is backpropagated?\n"
      ],
      "metadata": {
        "id": "MeUKCLt2SnNR"
      },
      "execution_count": null,
      "outputs": []
    },
    {
      "cell_type": "markdown",
      "metadata": {
        "id": "asSdpVIvqMtN"
      },
      "source": [
        "## Updating the Parameters with the Optimiser: `step()`\n",
        "We can see that the gradients have been computed for each learning weight, but the weights remain unchanged, because we haven't run the optimiser yet. The optimiser is responsible for updating model weights based on the computed gradients."
      ]
    },
    {
      "cell_type": "code",
      "metadata": {
        "id": "FzETNdd2qMtN"
      },
      "source": [
        "optimizer.step()\n",
        "print(\"Parameter updates:\")\n",
        "print(f\"Layer2 weights = {model.layer2.weight[0][0:10]}\")\n",
        "print(f\"Layer2 bias = {model.layer2.bias[0]}\")\n",
        "\n",
        "print(\"\\nGradients:\")\n",
        "print(f\"Layer2 weight gradients = {model.layer2.weight.grad[0][0:10]}\")\n",
        "print(f\"Layer2 bias gradients = {model.layer2.bias.grad[0]}\")\n"
      ],
      "execution_count": null,
      "outputs": []
    },
    {
      "cell_type": "markdown",
      "metadata": {
        "id": "HtrGaKX0qMtN"
      },
      "source": [
        "You should see that `layer2`'s sample weights and bias have changed.\n",
        "\n",
        "## Resetting the gradients: `zero_grad()`\n",
        "One important thing about the process: After calling `optimizer.step()`, you need to call `optimizer.zero_grad()`, or else every time you run `loss.backward()`, the gradients on the learning weights will accumulate:"
      ]
    },
    {
      "cell_type": "code",
      "metadata": {
        "id": "nZBDqMcPqMtN"
      },
      "source": [
        "print(f\"Layer2 some weights: \\n{model.layer2.weight[0][0:10]}\")\n",
        "print(f\"Layer2 one bias: {model.layer2.bias[0]}\")\n",
        "\n",
        "for i in range(0, 5):\n",
        "    prediction = model(some_input)\n",
        "    loss = (ideal_output - prediction).pow(2).sum()\n",
        "    loss.backward()\n",
        "    \n",
        "print(\"\\nAfter a few iterations of training:\")\n",
        "print(f\"Layer2 some weights GRADs: \\n{model.layer2.weight.grad[0][0:10]}\")\n",
        "print(f\"Layer2 one bias GRAD: {model.layer2.bias.grad[0]}\")\n",
        "\n",
        "optimizer.zero_grad()\n",
        "\n",
        "print(\"\\nAfter resetting gradients:\")\n",
        "print(f\"Layer2 some weights = {model.layer2.weight.grad[0][0:10]}\")\n",
        "print(f\"Layer2 one bias = {model.layer2.bias.grad[0]}\")\n"
      ],
      "execution_count": null,
      "outputs": []
    },
    {
      "cell_type": "code",
      "source": [
        "#Q17. Why are the gradients after running loss.backward() multiple times much bigger?\n",
        "\n"
      ],
      "metadata": {
        "id": "y-ShDsdCYdv4"
      },
      "execution_count": null,
      "outputs": []
    },
    {
      "cell_type": "markdown",
      "metadata": {
        "id": "hDDjrsTFqMtN"
      },
      "source": [
        "## Turning Autograd Off and On\n",
        "\n",
        "There are situations where you will need fine-grained control over whether autograd is enabled. There are multiple ways to do this, depending on the situation.\n",
        "\n",
        "The simplest is to change the `requires_grad` flag on a tensor directly:"
      ]
    },
    {
      "cell_type": "code",
      "metadata": {
        "id": "YYrJ9XR0qMtO"
      },
      "source": [
        "a = torch.ones(2, 3, requires_grad=True)\n",
        "print(f'a = {a}')\n",
        "\n",
        "b1 = 2 * a\n",
        "print(f'b1 = {b1}')\n",
        "\n",
        "a.requires_grad = False\n",
        "b2 = 2 * a\n",
        "print(f'b2 = {b2}')\n"
      ],
      "execution_count": null,
      "outputs": []
    },
    {
      "cell_type": "markdown",
      "metadata": {
        "id": "c4Yd1rLTqMtO"
      },
      "source": [
        "In the cell above, we see that `b1` has a `grad_fn` (i.e., a traced computation history), which is what we expect, since it was derived from a tensor, `a`, that had autograd turned on. When we turn off autograd explicitly with `a.requires_grad = False`, computation history is no longer tracked, as we see when we compute `b2`.\n",
        "\n",
        "If you only need autograd turned off temporarily, a better way is to use the `torch.no_grad()`:"
      ]
    },
    {
      "cell_type": "code",
      "metadata": {
        "scrolled": false,
        "id": "75yoOI_jqMtO"
      },
      "source": [
        "a = torch.ones(2, 3, requires_grad=True) * 2\n",
        "b = torch.ones(2, 3, requires_grad=True) * 3\n",
        "\n",
        "c1 = a + b\n",
        "print(f\"c1: \\n{c1}\")\n",
        "\n",
        "with torch.no_grad():\n",
        "    c2 = a + b\n",
        "\n",
        "print(f\"c2: \\n{c2}\")\n",
        "\n",
        "c3 = a * b\n",
        "print(f\"c3: \\n{c3}\")"
      ],
      "execution_count": null,
      "outputs": []
    },
    {
      "cell_type": "code",
      "source": [
        "#Q18. Can we do differentiation on computations on c1? Why?\n",
        "\n",
        "#Q19. Can we do differentiation on computations on c2? Why?\n",
        "\n",
        "#Q20. Can we do differentiation on computations on c3? Why?\n"
      ],
      "metadata": {
        "id": "wSmDXbuObJ_0"
      },
      "execution_count": null,
      "outputs": []
    },
    {
      "cell_type": "markdown",
      "metadata": {
        "id": "_zSspgZVqMtO"
      },
      "source": [
        "`torch.no_grad()` can also be used as a function or method dectorator:"
      ]
    },
    {
      "cell_type": "code",
      "metadata": {
        "id": "0YD1Vt0aqMtO"
      },
      "source": [
        "def add_tensors1(x, y):\n",
        "    return x + y\n",
        "\n",
        "@torch.no_grad()\n",
        "def add_tensors2(x, y):\n",
        "    return x + y\n",
        "\n",
        "\n",
        "a = torch.ones(2, 3, requires_grad=True) * 2\n",
        "b = torch.ones(2, 3, requires_grad=True) * 3\n",
        "\n",
        "c1 = add_tensors1(a, b)\n",
        "print(c1)\n",
        "\n",
        "c2 = add_tensors2(a, b)\n",
        "print(c2)"
      ],
      "execution_count": null,
      "outputs": []
    },
    {
      "cell_type": "markdown",
      "metadata": {
        "id": "yni7EgQlqMtO"
      },
      "source": [
        "There's a corresponding context manager, `torch.enable_grad()`, for turning autograd on when it isn't already. It may also be used as a decorator.\n",
        "\n",
        "Finally, you may have a tensor that requires gradient tracking, but you want a copy that does not. For this we have the `Tensor` object's `detach()` method - it creates a copy of the tensor that is *detached* from the computation history:"
      ]
    },
    {
      "cell_type": "code",
      "metadata": {
        "id": "xIcn3CdOqMtP"
      },
      "source": [
        "x = torch.rand(5, requires_grad=True)\n",
        "y = x.detach()\n",
        "\n",
        "print(x)\n",
        "print(y)"
      ],
      "execution_count": null,
      "outputs": []
    },
    {
      "cell_type": "markdown",
      "metadata": {
        "id": "qHZ3uAX9qMtP"
      },
      "source": [
        "We did this above when we wanted to graph some of our tensors. This is because `matplotlib` expects a NumPy array as input, and the implicit conversion from a PyTorch tensor to a NumPy array is not enabled for tensors with requires_grad=True. Making a detached copy lets us move forward.\n"
      ]
    }
  ]
}